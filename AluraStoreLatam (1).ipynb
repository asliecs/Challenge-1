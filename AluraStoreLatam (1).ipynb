{
  "nbformat": 4,
  "nbformat_minor": 0,
  "metadata": {
    "colab": {
      "provenance": []
    },
    "kernelspec": {
      "name": "python3",
      "display_name": "Python 3"
    },
    "language_info": {
      "name": "python"
    }
  },
  "cells": [
    {
      "cell_type": "markdown",
      "source": [
        "### Importación de datos\n",
        "\n"
      ],
      "metadata": {
        "id": "RhEdWd9YUR6H"
      }
    },
    {
      "cell_type": "code",
      "execution_count": 28,
      "metadata": {
        "colab": {
          "base_uri": "https://localhost:8080/",
          "height": 206
        },
        "id": "T3EvaeQ_INIL",
        "outputId": "96822b1a-18b4-4d2f-d92b-c005878b697d"
      },
      "outputs": [
        {
          "output_type": "execute_result",
          "data": {
            "text/plain": [
              "            Producto Categoría del Producto    Precio  Costo de envío  \\\n",
              "0  Asistente virtual           Electrónicos  164300.0          6900.0   \n",
              "1    Mesa de comedor                Muebles  192300.0          8400.0   \n",
              "2      Juego de mesa               Juguetes  209600.0         15900.0   \n",
              "3         Microondas      Electrodomésticos  757500.0         41000.0   \n",
              "4   Silla de oficina                Muebles  335200.0         20200.0   \n",
              "\n",
              "  Fecha de Compra         Vendedor Lugar de Compra  Calificación  \\\n",
              "0      16/01/2021      Pedro Gomez          Bogotá             4   \n",
              "1      18/05/2022  Beatriz Morales        Medellín             1   \n",
              "2      15/03/2021   Juan Fernandez       Cartagena             1   \n",
              "3      03/05/2022   Juan Fernandez            Cali             4   \n",
              "4      07/11/2020    Maria Alfonso        Medellín             5   \n",
              "\n",
              "       Método de pago  Cantidad de cuotas       lat       lon  \n",
              "0  Tarjeta de crédito                   8   4.60971 -74.08175  \n",
              "1  Tarjeta de crédito                   4   6.25184 -75.56359  \n",
              "2  Tarjeta de crédito                   1  10.39972 -75.51444  \n",
              "3               Nequi                   1   3.43722 -76.52250  \n",
              "4               Nequi                   1   6.25184 -75.56359  "
            ],
            "text/html": [
              "\n",
              "  <div id=\"df-0774b8fa-277e-46c1-b78e-411e66e4a0e2\" class=\"colab-df-container\">\n",
              "    <div>\n",
              "<style scoped>\n",
              "    .dataframe tbody tr th:only-of-type {\n",
              "        vertical-align: middle;\n",
              "    }\n",
              "\n",
              "    .dataframe tbody tr th {\n",
              "        vertical-align: top;\n",
              "    }\n",
              "\n",
              "    .dataframe thead th {\n",
              "        text-align: right;\n",
              "    }\n",
              "</style>\n",
              "<table border=\"1\" class=\"dataframe\">\n",
              "  <thead>\n",
              "    <tr style=\"text-align: right;\">\n",
              "      <th></th>\n",
              "      <th>Producto</th>\n",
              "      <th>Categoría del Producto</th>\n",
              "      <th>Precio</th>\n",
              "      <th>Costo de envío</th>\n",
              "      <th>Fecha de Compra</th>\n",
              "      <th>Vendedor</th>\n",
              "      <th>Lugar de Compra</th>\n",
              "      <th>Calificación</th>\n",
              "      <th>Método de pago</th>\n",
              "      <th>Cantidad de cuotas</th>\n",
              "      <th>lat</th>\n",
              "      <th>lon</th>\n",
              "    </tr>\n",
              "  </thead>\n",
              "  <tbody>\n",
              "    <tr>\n",
              "      <th>0</th>\n",
              "      <td>Asistente virtual</td>\n",
              "      <td>Electrónicos</td>\n",
              "      <td>164300.0</td>\n",
              "      <td>6900.0</td>\n",
              "      <td>16/01/2021</td>\n",
              "      <td>Pedro Gomez</td>\n",
              "      <td>Bogotá</td>\n",
              "      <td>4</td>\n",
              "      <td>Tarjeta de crédito</td>\n",
              "      <td>8</td>\n",
              "      <td>4.60971</td>\n",
              "      <td>-74.08175</td>\n",
              "    </tr>\n",
              "    <tr>\n",
              "      <th>1</th>\n",
              "      <td>Mesa de comedor</td>\n",
              "      <td>Muebles</td>\n",
              "      <td>192300.0</td>\n",
              "      <td>8400.0</td>\n",
              "      <td>18/05/2022</td>\n",
              "      <td>Beatriz Morales</td>\n",
              "      <td>Medellín</td>\n",
              "      <td>1</td>\n",
              "      <td>Tarjeta de crédito</td>\n",
              "      <td>4</td>\n",
              "      <td>6.25184</td>\n",
              "      <td>-75.56359</td>\n",
              "    </tr>\n",
              "    <tr>\n",
              "      <th>2</th>\n",
              "      <td>Juego de mesa</td>\n",
              "      <td>Juguetes</td>\n",
              "      <td>209600.0</td>\n",
              "      <td>15900.0</td>\n",
              "      <td>15/03/2021</td>\n",
              "      <td>Juan Fernandez</td>\n",
              "      <td>Cartagena</td>\n",
              "      <td>1</td>\n",
              "      <td>Tarjeta de crédito</td>\n",
              "      <td>1</td>\n",
              "      <td>10.39972</td>\n",
              "      <td>-75.51444</td>\n",
              "    </tr>\n",
              "    <tr>\n",
              "      <th>3</th>\n",
              "      <td>Microondas</td>\n",
              "      <td>Electrodomésticos</td>\n",
              "      <td>757500.0</td>\n",
              "      <td>41000.0</td>\n",
              "      <td>03/05/2022</td>\n",
              "      <td>Juan Fernandez</td>\n",
              "      <td>Cali</td>\n",
              "      <td>4</td>\n",
              "      <td>Nequi</td>\n",
              "      <td>1</td>\n",
              "      <td>3.43722</td>\n",
              "      <td>-76.52250</td>\n",
              "    </tr>\n",
              "    <tr>\n",
              "      <th>4</th>\n",
              "      <td>Silla de oficina</td>\n",
              "      <td>Muebles</td>\n",
              "      <td>335200.0</td>\n",
              "      <td>20200.0</td>\n",
              "      <td>07/11/2020</td>\n",
              "      <td>Maria Alfonso</td>\n",
              "      <td>Medellín</td>\n",
              "      <td>5</td>\n",
              "      <td>Nequi</td>\n",
              "      <td>1</td>\n",
              "      <td>6.25184</td>\n",
              "      <td>-75.56359</td>\n",
              "    </tr>\n",
              "  </tbody>\n",
              "</table>\n",
              "</div>\n",
              "    <div class=\"colab-df-buttons\">\n",
              "\n",
              "  <div class=\"colab-df-container\">\n",
              "    <button class=\"colab-df-convert\" onclick=\"convertToInteractive('df-0774b8fa-277e-46c1-b78e-411e66e4a0e2')\"\n",
              "            title=\"Convert this dataframe to an interactive table.\"\n",
              "            style=\"display:none;\">\n",
              "\n",
              "  <svg xmlns=\"http://www.w3.org/2000/svg\" height=\"24px\" viewBox=\"0 -960 960 960\">\n",
              "    <path d=\"M120-120v-720h720v720H120Zm60-500h600v-160H180v160Zm220 220h160v-160H400v160Zm0 220h160v-160H400v160ZM180-400h160v-160H180v160Zm440 0h160v-160H620v160ZM180-180h160v-160H180v160Zm440 0h160v-160H620v160Z\"/>\n",
              "  </svg>\n",
              "    </button>\n",
              "\n",
              "  <style>\n",
              "    .colab-df-container {\n",
              "      display:flex;\n",
              "      gap: 12px;\n",
              "    }\n",
              "\n",
              "    .colab-df-convert {\n",
              "      background-color: #E8F0FE;\n",
              "      border: none;\n",
              "      border-radius: 50%;\n",
              "      cursor: pointer;\n",
              "      display: none;\n",
              "      fill: #1967D2;\n",
              "      height: 32px;\n",
              "      padding: 0 0 0 0;\n",
              "      width: 32px;\n",
              "    }\n",
              "\n",
              "    .colab-df-convert:hover {\n",
              "      background-color: #E2EBFA;\n",
              "      box-shadow: 0px 1px 2px rgba(60, 64, 67, 0.3), 0px 1px 3px 1px rgba(60, 64, 67, 0.15);\n",
              "      fill: #174EA6;\n",
              "    }\n",
              "\n",
              "    .colab-df-buttons div {\n",
              "      margin-bottom: 4px;\n",
              "    }\n",
              "\n",
              "    [theme=dark] .colab-df-convert {\n",
              "      background-color: #3B4455;\n",
              "      fill: #D2E3FC;\n",
              "    }\n",
              "\n",
              "    [theme=dark] .colab-df-convert:hover {\n",
              "      background-color: #434B5C;\n",
              "      box-shadow: 0px 1px 3px 1px rgba(0, 0, 0, 0.15);\n",
              "      filter: drop-shadow(0px 1px 2px rgba(0, 0, 0, 0.3));\n",
              "      fill: #FFFFFF;\n",
              "    }\n",
              "  </style>\n",
              "\n",
              "    <script>\n",
              "      const buttonEl =\n",
              "        document.querySelector('#df-0774b8fa-277e-46c1-b78e-411e66e4a0e2 button.colab-df-convert');\n",
              "      buttonEl.style.display =\n",
              "        google.colab.kernel.accessAllowed ? 'block' : 'none';\n",
              "\n",
              "      async function convertToInteractive(key) {\n",
              "        const element = document.querySelector('#df-0774b8fa-277e-46c1-b78e-411e66e4a0e2');\n",
              "        const dataTable =\n",
              "          await google.colab.kernel.invokeFunction('convertToInteractive',\n",
              "                                                    [key], {});\n",
              "        if (!dataTable) return;\n",
              "\n",
              "        const docLinkHtml = 'Like what you see? Visit the ' +\n",
              "          '<a target=\"_blank\" href=https://colab.research.google.com/notebooks/data_table.ipynb>data table notebook</a>'\n",
              "          + ' to learn more about interactive tables.';\n",
              "        element.innerHTML = '';\n",
              "        dataTable['output_type'] = 'display_data';\n",
              "        await google.colab.output.renderOutput(dataTable, element);\n",
              "        const docLink = document.createElement('div');\n",
              "        docLink.innerHTML = docLinkHtml;\n",
              "        element.appendChild(docLink);\n",
              "      }\n",
              "    </script>\n",
              "  </div>\n",
              "\n",
              "\n",
              "    <div id=\"df-4cdf29d5-0250-4f45-81ab-af09babb39b5\">\n",
              "      <button class=\"colab-df-quickchart\" onclick=\"quickchart('df-4cdf29d5-0250-4f45-81ab-af09babb39b5')\"\n",
              "                title=\"Suggest charts\"\n",
              "                style=\"display:none;\">\n",
              "\n",
              "<svg xmlns=\"http://www.w3.org/2000/svg\" height=\"24px\"viewBox=\"0 0 24 24\"\n",
              "     width=\"24px\">\n",
              "    <g>\n",
              "        <path d=\"M19 3H5c-1.1 0-2 .9-2 2v14c0 1.1.9 2 2 2h14c1.1 0 2-.9 2-2V5c0-1.1-.9-2-2-2zM9 17H7v-7h2v7zm4 0h-2V7h2v10zm4 0h-2v-4h2v4z\"/>\n",
              "    </g>\n",
              "</svg>\n",
              "      </button>\n",
              "\n",
              "<style>\n",
              "  .colab-df-quickchart {\n",
              "      --bg-color: #E8F0FE;\n",
              "      --fill-color: #1967D2;\n",
              "      --hover-bg-color: #E2EBFA;\n",
              "      --hover-fill-color: #174EA6;\n",
              "      --disabled-fill-color: #AAA;\n",
              "      --disabled-bg-color: #DDD;\n",
              "  }\n",
              "\n",
              "  [theme=dark] .colab-df-quickchart {\n",
              "      --bg-color: #3B4455;\n",
              "      --fill-color: #D2E3FC;\n",
              "      --hover-bg-color: #434B5C;\n",
              "      --hover-fill-color: #FFFFFF;\n",
              "      --disabled-bg-color: #3B4455;\n",
              "      --disabled-fill-color: #666;\n",
              "  }\n",
              "\n",
              "  .colab-df-quickchart {\n",
              "    background-color: var(--bg-color);\n",
              "    border: none;\n",
              "    border-radius: 50%;\n",
              "    cursor: pointer;\n",
              "    display: none;\n",
              "    fill: var(--fill-color);\n",
              "    height: 32px;\n",
              "    padding: 0;\n",
              "    width: 32px;\n",
              "  }\n",
              "\n",
              "  .colab-df-quickchart:hover {\n",
              "    background-color: var(--hover-bg-color);\n",
              "    box-shadow: 0 1px 2px rgba(60, 64, 67, 0.3), 0 1px 3px 1px rgba(60, 64, 67, 0.15);\n",
              "    fill: var(--button-hover-fill-color);\n",
              "  }\n",
              "\n",
              "  .colab-df-quickchart-complete:disabled,\n",
              "  .colab-df-quickchart-complete:disabled:hover {\n",
              "    background-color: var(--disabled-bg-color);\n",
              "    fill: var(--disabled-fill-color);\n",
              "    box-shadow: none;\n",
              "  }\n",
              "\n",
              "  .colab-df-spinner {\n",
              "    border: 2px solid var(--fill-color);\n",
              "    border-color: transparent;\n",
              "    border-bottom-color: var(--fill-color);\n",
              "    animation:\n",
              "      spin 1s steps(1) infinite;\n",
              "  }\n",
              "\n",
              "  @keyframes spin {\n",
              "    0% {\n",
              "      border-color: transparent;\n",
              "      border-bottom-color: var(--fill-color);\n",
              "      border-left-color: var(--fill-color);\n",
              "    }\n",
              "    20% {\n",
              "      border-color: transparent;\n",
              "      border-left-color: var(--fill-color);\n",
              "      border-top-color: var(--fill-color);\n",
              "    }\n",
              "    30% {\n",
              "      border-color: transparent;\n",
              "      border-left-color: var(--fill-color);\n",
              "      border-top-color: var(--fill-color);\n",
              "      border-right-color: var(--fill-color);\n",
              "    }\n",
              "    40% {\n",
              "      border-color: transparent;\n",
              "      border-right-color: var(--fill-color);\n",
              "      border-top-color: var(--fill-color);\n",
              "    }\n",
              "    60% {\n",
              "      border-color: transparent;\n",
              "      border-right-color: var(--fill-color);\n",
              "    }\n",
              "    80% {\n",
              "      border-color: transparent;\n",
              "      border-right-color: var(--fill-color);\n",
              "      border-bottom-color: var(--fill-color);\n",
              "    }\n",
              "    90% {\n",
              "      border-color: transparent;\n",
              "      border-bottom-color: var(--fill-color);\n",
              "    }\n",
              "  }\n",
              "</style>\n",
              "\n",
              "      <script>\n",
              "        async function quickchart(key) {\n",
              "          const quickchartButtonEl =\n",
              "            document.querySelector('#' + key + ' button');\n",
              "          quickchartButtonEl.disabled = true;  // To prevent multiple clicks.\n",
              "          quickchartButtonEl.classList.add('colab-df-spinner');\n",
              "          try {\n",
              "            const charts = await google.colab.kernel.invokeFunction(\n",
              "                'suggestCharts', [key], {});\n",
              "          } catch (error) {\n",
              "            console.error('Error during call to suggestCharts:', error);\n",
              "          }\n",
              "          quickchartButtonEl.classList.remove('colab-df-spinner');\n",
              "          quickchartButtonEl.classList.add('colab-df-quickchart-complete');\n",
              "        }\n",
              "        (() => {\n",
              "          let quickchartButtonEl =\n",
              "            document.querySelector('#df-4cdf29d5-0250-4f45-81ab-af09babb39b5 button');\n",
              "          quickchartButtonEl.style.display =\n",
              "            google.colab.kernel.accessAllowed ? 'block' : 'none';\n",
              "        })();\n",
              "      </script>\n",
              "    </div>\n",
              "\n",
              "    </div>\n",
              "  </div>\n"
            ],
            "application/vnd.google.colaboratory.intrinsic+json": {
              "type": "dataframe",
              "variable_name": "tienda",
              "summary": "{\n  \"name\": \"tienda\",\n  \"rows\": 2359,\n  \"fields\": [\n    {\n      \"column\": \"Producto\",\n      \"properties\": {\n        \"dtype\": \"category\",\n        \"num_unique_values\": 51,\n        \"samples\": [\n          \"Guitarra ac\\u00fastica\",\n          \"Bal\\u00f3n de baloncesto\",\n          \"Smartwatch\"\n        ],\n        \"semantic_type\": \"\",\n        \"description\": \"\"\n      }\n    },\n    {\n      \"column\": \"Categor\\u00eda del Producto\",\n      \"properties\": {\n        \"dtype\": \"category\",\n        \"num_unique_values\": 8,\n        \"samples\": [\n          \"Muebles\",\n          \"Deportes y diversi\\u00f3n\",\n          \"Electr\\u00f3nicos\"\n        ],\n        \"semantic_type\": \"\",\n        \"description\": \"\"\n      }\n    },\n    {\n      \"column\": \"Precio\",\n      \"properties\": {\n        \"dtype\": \"number\",\n        \"std\": 614686.7653873172,\n        \"min\": 7600.0,\n        \"max\": 2977000.0,\n        \"num_unique_values\": 1937,\n        \"samples\": [\n          2499400.0,\n          14800.0,\n          80500.0\n        ],\n        \"semantic_type\": \"\",\n        \"description\": \"\"\n      }\n    },\n    {\n      \"column\": \"Costo de env\\u00edo\",\n      \"properties\": {\n        \"dtype\": \"number\",\n        \"std\": 32860.0017825605,\n        \"min\": 0.0,\n        \"max\": 160800.0,\n        \"num_unique_values\": 753,\n        \"samples\": [\n          117800.0,\n          54700.0,\n          45600.0\n        ],\n        \"semantic_type\": \"\",\n        \"description\": \"\"\n      }\n    },\n    {\n      \"column\": \"Fecha de Compra\",\n      \"properties\": {\n        \"dtype\": \"object\",\n        \"num_unique_values\": 1018,\n        \"samples\": [\n          \"15/09/2022\",\n          \"03/06/2020\",\n          \"06/11/2021\"\n        ],\n        \"semantic_type\": \"\",\n        \"description\": \"\"\n      }\n    },\n    {\n      \"column\": \"Vendedor\",\n      \"properties\": {\n        \"dtype\": \"category\",\n        \"num_unique_values\": 14,\n        \"samples\": [\n          \"Juliana Costa\",\n          \"Mariana Herrera\",\n          \"Pedro Gomez\"\n        ],\n        \"semantic_type\": \"\",\n        \"description\": \"\"\n      }\n    },\n    {\n      \"column\": \"Lugar de Compra\",\n      \"properties\": {\n        \"dtype\": \"category\",\n        \"num_unique_values\": 19,\n        \"samples\": [\n          \"Bogot\\u00e1\",\n          \"Pereira\",\n          \"Neiva\"\n        ],\n        \"semantic_type\": \"\",\n        \"description\": \"\"\n      }\n    },\n    {\n      \"column\": \"Calificaci\\u00f3n\",\n      \"properties\": {\n        \"dtype\": \"number\",\n        \"std\": 1,\n        \"min\": 1,\n        \"max\": 5,\n        \"num_unique_values\": 5,\n        \"samples\": [\n          1,\n          2,\n          5\n        ],\n        \"semantic_type\": \"\",\n        \"description\": \"\"\n      }\n    },\n    {\n      \"column\": \"M\\u00e9todo de pago\",\n      \"properties\": {\n        \"dtype\": \"category\",\n        \"num_unique_values\": 4,\n        \"samples\": [\n          \"Nequi\",\n          \"Tarjeta de d\\u00e9bito\",\n          \"Tarjeta de cr\\u00e9dito\"\n        ],\n        \"semantic_type\": \"\",\n        \"description\": \"\"\n      }\n    },\n    {\n      \"column\": \"Cantidad de cuotas\",\n      \"properties\": {\n        \"dtype\": \"number\",\n        \"std\": 2,\n        \"min\": 1,\n        \"max\": 24,\n        \"num_unique_values\": 15,\n        \"samples\": [\n          7,\n          14,\n          8\n        ],\n        \"semantic_type\": \"\",\n        \"description\": \"\"\n      }\n    },\n    {\n      \"column\": \"lat\",\n      \"properties\": {\n        \"dtype\": \"number\",\n        \"std\": 2.2874452492678627,\n        \"min\": -4.21528,\n        \"max\": 11.54444,\n        \"num_unique_values\": 19,\n        \"samples\": [\n          4.60971,\n          4.81333,\n          2.9273\n        ],\n        \"semantic_type\": \"\",\n        \"description\": \"\"\n      }\n    },\n    {\n      \"column\": \"lon\",\n      \"properties\": {\n        \"dtype\": \"number\",\n        \"std\": 1.2178272727088486,\n        \"min\": -77.28111,\n        \"max\": -67.9239,\n        \"num_unique_values\": 19,\n        \"samples\": [\n          -74.08175,\n          -75.69611,\n          -75.28189\n        ],\n        \"semantic_type\": \"\",\n        \"description\": \"\"\n      }\n    }\n  ]\n}"
            }
          },
          "metadata": {},
          "execution_count": 28
        }
      ],
      "source": [
        "import pandas as pd\n",
        "import matplotlib.pyplot as plt\n",
        "import seaborn as sns\n",
        "\n",
        "url = \"https://raw.githubusercontent.com/alura-es-cursos/challenge1-data-science-latam/refs/heads/main/base-de-datos-challenge1-latam/tienda_1%20.csv\"\n",
        "url2 = \"https://raw.githubusercontent.com/alura-es-cursos/challenge1-data-science-latam/refs/heads/main/base-de-datos-challenge1-latam/tienda_2.csv\"\n",
        "url3 = \"https://raw.githubusercontent.com/alura-es-cursos/challenge1-data-science-latam/refs/heads/main/base-de-datos-challenge1-latam/tienda_3.csv\"\n",
        "url4 = \"https://raw.githubusercontent.com/alura-es-cursos/challenge1-data-science-latam/refs/heads/main/base-de-datos-challenge1-latam/tienda_4.csv\"\n",
        "\n",
        "tienda = pd.read_csv(url)\n",
        "tienda2 = pd.read_csv(url2)\n",
        "tienda3 = pd.read_csv(url3)\n",
        "tienda4 = pd.read_csv(url4)\n",
        "\n",
        "tienda.head()"
      ]
    },
    {
      "cell_type": "markdown",
      "source": [
        "#1. Análisis de facturación\n",
        "\n"
      ],
      "metadata": {
        "id": "X62IW3KFUIYm"
      }
    },
    {
      "cell_type": "code",
      "source": [
        "#tienda1\n",
        "# Calcular el ingreso total sumando los valores de la columna 'Precio'\n",
        "ingreso_total1= tienda['Precio'].sum()\n",
        "ingreso_total2= tienda2['Precio'].sum()\n",
        "ingreso_total3= tienda3['Precio'].sum()\n",
        "ingreso_total4= tienda4['Precio'].sum()\n"
      ],
      "metadata": {
        "id": "xykobSftV64I"
      },
      "execution_count": 4,
      "outputs": []
    },
    {
      "cell_type": "code",
      "source": [
        "print(f\"Ingreso total de la tienda 1: ${ingreso_total1:,.2f}\")\n",
        "print(f\"Ingreso total de la tienda 2: ${ingreso_total2:,.2f}\")\n",
        "print(f\"Ingreso total de la tienda 3: ${ingreso_total3:,.2f}\")\n",
        "print(f\"Ingreso total de la tienda 4: ${ingreso_total4:,.2f}\")"
      ],
      "metadata": {
        "id": "KDyr8E71V3m-",
        "colab": {
          "base_uri": "https://localhost:8080/"
        },
        "outputId": "000c7975-5f07-48c4-bfc0-b6c4a5dddd33"
      },
      "execution_count": 5,
      "outputs": [
        {
          "output_type": "stream",
          "name": "stdout",
          "text": [
            "Ingreso total de la tienda 1: $1,150,880,400.00\n",
            "Ingreso total de la tienda 2: $1,116,343,500.00\n",
            "Ingreso total de la tienda 3: $1,098,019,600.00\n",
            "Ingreso total de la tienda 4: $1,038,375,700.00\n"
          ]
        }
      ]
    },
    {
      "cell_type": "markdown",
      "source": [
        "# 2. Ventas por categoría"
      ],
      "metadata": {
        "id": "2V_vcAPzWZmR"
      }
    },
    {
      "cell_type": "code",
      "source": [
        "# Revisar el nombre exacto de la columna de categorías\n",
        "print(tienda.columns)"
      ],
      "metadata": {
        "colab": {
          "base_uri": "https://localhost:8080/"
        },
        "id": "gXWPCXK6DbPu",
        "outputId": "932b2461-ea12-4dc4-d2cc-76b522c887d6"
      },
      "execution_count": 6,
      "outputs": [
        {
          "output_type": "stream",
          "name": "stdout",
          "text": [
            "Index(['Producto', 'Categoría del Producto', 'Precio', 'Costo de envío',\n",
            "       'Fecha de Compra', 'Vendedor', 'Lugar de Compra', 'Calificación',\n",
            "       'Método de pago', 'Cantidad de cuotas', 'lat', 'lon'],\n",
            "      dtype='object')\n"
          ]
        }
      ]
    },
    {
      "cell_type": "code",
      "source": [
        "ventas_por_categoria1 = tienda.groupby('Categoría del Producto').size().sort_values(ascending=False)\n",
        "\n",
        "print(\"Productos vendidos por categoría tienda 1:\")\n",
        "print(ventas_por_categoria)\n"
      ],
      "metadata": {
        "id": "A34YupIuYhfF",
        "colab": {
          "base_uri": "https://localhost:8080/"
        },
        "outputId": "f863c9e3-ee7b-40ad-e218-b26120180951"
      },
      "execution_count": 8,
      "outputs": [
        {
          "output_type": "stream",
          "name": "stdout",
          "text": [
            "Productos vendidos por categoría tienda 1:\n",
            "Categoría del Producto\n",
            "Muebles                    465\n",
            "Electrónicos               448\n",
            "Juguetes                   324\n",
            "Electrodomésticos          312\n",
            "Deportes y diversión       284\n",
            "Instrumentos musicales     182\n",
            "Libros                     173\n",
            "Artículos para el hogar    171\n",
            "dtype: int64\n"
          ]
        }
      ]
    },
    {
      "cell_type": "code",
      "source": [
        "ventas_por_categoria2 = tienda2.groupby('Categoría del Producto').size().sort_values(ascending=False)\n",
        "\n",
        "print(\"Productos vendidos por categoría tienda 2:\")\n",
        "print(ventas_por_categoria2)"
      ],
      "metadata": {
        "id": "yZR6cOjXYSk1",
        "colab": {
          "base_uri": "https://localhost:8080/"
        },
        "outputId": "899f8dd0-f92d-4ea7-bddb-2ac319fbf996"
      },
      "execution_count": 9,
      "outputs": [
        {
          "output_type": "stream",
          "name": "stdout",
          "text": [
            "Productos vendidos por categoría tienda 2:\n",
            "Categoría del Producto\n",
            "Muebles                    442\n",
            "Electrónicos               422\n",
            "Juguetes                   313\n",
            "Electrodomésticos          305\n",
            "Deportes y diversión       275\n",
            "Instrumentos musicales     224\n",
            "Libros                     197\n",
            "Artículos para el hogar    181\n",
            "dtype: int64\n"
          ]
        }
      ]
    },
    {
      "cell_type": "code",
      "source": [
        "ventas_por_categoria3 = tienda3.groupby('Categoría del Producto').size().sort_values(ascending=False)\n",
        "\n",
        "print(\"Productos vendidos por categoría tienda 1:\")\n",
        "print(ventas_por_categoria3)"
      ],
      "metadata": {
        "colab": {
          "base_uri": "https://localhost:8080/"
        },
        "id": "TggzbHSuD6rv",
        "outputId": "70d02f99-5ff3-47a7-f425-509c91028b87"
      },
      "execution_count": 10,
      "outputs": [
        {
          "output_type": "stream",
          "name": "stdout",
          "text": [
            "Productos vendidos por categoría tienda 1:\n",
            "Categoría del Producto\n",
            "Muebles                    499\n",
            "Electrónicos               451\n",
            "Juguetes                   315\n",
            "Electrodomésticos          278\n",
            "Deportes y diversión       277\n",
            "Libros                     185\n",
            "Artículos para el hogar    177\n",
            "Instrumentos musicales     177\n",
            "dtype: int64\n"
          ]
        }
      ]
    },
    {
      "cell_type": "code",
      "source": [
        "ventas_por_categoria4 = tienda4.groupby('Categoría del Producto').size().sort_values(ascending=False)\n",
        "\n",
        "print(\"Productos vendidos por categoría tienda 1:\")\n",
        "print(ventas_por_categoria4)"
      ],
      "metadata": {
        "colab": {
          "base_uri": "https://localhost:8080/"
        },
        "id": "2v4hn9WOEDXl",
        "outputId": "ef00bcd3-067c-41f5-8914-ff402a5a4c00"
      },
      "execution_count": 11,
      "outputs": [
        {
          "output_type": "stream",
          "name": "stdout",
          "text": [
            "Productos vendidos por categoría tienda 1:\n",
            "Categoría del Producto\n",
            "Muebles                    480\n",
            "Electrónicos               451\n",
            "Juguetes                   338\n",
            "Deportes y diversión       277\n",
            "Electrodomésticos          254\n",
            "Artículos para el hogar    201\n",
            "Libros                     187\n",
            "Instrumentos musicales     170\n",
            "dtype: int64\n"
          ]
        }
      ]
    },
    {
      "cell_type": "code",
      "source": [
        "urls = {\n",
        "    \"Tienda 1\": \"https://raw.githubusercontent.com/alura-es-cursos/challenge1-data-science-latam/refs/heads/main/base-de-datos-challenge1-latam/tienda_1%20.csv\",\n",
        "    \"Tienda 2\": \"https://raw.githubusercontent.com/alura-es-cursos/challenge1-data-science-latam/refs/heads/main/base-de-datos-challenge1-latam/tienda_2.csv\",\n",
        "    \"Tienda 3\": \"https://raw.githubusercontent.com/alura-es-cursos/challenge1-data-science-latam/refs/heads/main/base-de-datos-challenge1-latam/tienda_3.csv\",\n",
        "    \"Tienda 4\": \"https://raw.githubusercontent.com/alura-es-cursos/challenge1-data-science-latam/refs/heads/main/base-de-datos-challenge1-latam/tienda_4.csv\"\n",
        "}\n"
      ],
      "metadata": {
        "id": "seb72SwpETXG"
      },
      "execution_count": 17,
      "outputs": []
    },
    {
      "cell_type": "code",
      "source": [
        "for nombre, url in urls.items():\n",
        "    print(f\"\\nAnálisis de {nombre}\")\n",
        "\n",
        "    try:\n",
        "        df = pd.read_csv(url)\n",
        "\n",
        "        # Verificamos el nombre de la columna si es necesario\n",
        "        # print(df.columns)\n",
        "\n",
        "        # Agrupar por categoría y contar\n",
        "        ventas_categoria = df['Calificación'].value_counts()\n",
        "\n",
        "        print(\"Ventas por categoría:\")\n",
        "        print(ventas_categoria)\n",
        "\n",
        "    except Exception as e:\n",
        "        print(f\"Error al procesar {nombre}: {e}\")\n"
      ],
      "metadata": {
        "colab": {
          "base_uri": "https://localhost:8080/"
        },
        "id": "JdTdjrcqEVj_",
        "outputId": "83cb8abd-a93f-4c8c-9664-6499faf4b647"
      },
      "execution_count": 18,
      "outputs": [
        {
          "output_type": "stream",
          "name": "stdout",
          "text": [
            "\n",
            "Análisis de Tienda 1\n",
            "Ventas por categoría:\n",
            "Categoría del Producto\n",
            "Muebles                    465\n",
            "Electrónicos               448\n",
            "Juguetes                   324\n",
            "Electrodomésticos          312\n",
            "Deportes y diversión       284\n",
            "Instrumentos musicales     182\n",
            "Libros                     173\n",
            "Artículos para el hogar    171\n",
            "Name: count, dtype: int64\n",
            "\n",
            "Análisis de Tienda 2\n",
            "Ventas por categoría:\n",
            "Categoría del Producto\n",
            "Muebles                    442\n",
            "Electrónicos               422\n",
            "Juguetes                   313\n",
            "Electrodomésticos          305\n",
            "Deportes y diversión       275\n",
            "Instrumentos musicales     224\n",
            "Libros                     197\n",
            "Artículos para el hogar    181\n",
            "Name: count, dtype: int64\n",
            "\n",
            "Análisis de Tienda 3\n",
            "Ventas por categoría:\n",
            "Categoría del Producto\n",
            "Muebles                    499\n",
            "Electrónicos               451\n",
            "Juguetes                   315\n",
            "Electrodomésticos          278\n",
            "Deportes y diversión       277\n",
            "Libros                     185\n",
            "Instrumentos musicales     177\n",
            "Artículos para el hogar    177\n",
            "Name: count, dtype: int64\n",
            "\n",
            "Análisis de Tienda 4\n",
            "Ventas por categoría:\n",
            "Categoría del Producto\n",
            "Muebles                    480\n",
            "Electrónicos               451\n",
            "Juguetes                   338\n",
            "Deportes y diversión       277\n",
            "Electrodomésticos          254\n",
            "Artículos para el hogar    201\n",
            "Libros                     187\n",
            "Instrumentos musicales     170\n",
            "Name: count, dtype: int64\n"
          ]
        }
      ]
    },
    {
      "cell_type": "markdown",
      "source": [
        "# 3. Calificación promedio de la tienda\n"
      ],
      "metadata": {
        "id": "Rq6tU_xSY3jk"
      }
    },
    {
      "cell_type": "code",
      "source": [
        "calificaciones = {}\n",
        "\n",
        "for nombre, url in urls.items():\n",
        "    print(f\"\\nCalificación promedio de {nombre}\")\n",
        "\n",
        "    try:\n",
        "        df = pd.read_csv(url)\n",
        "\n",
        "        promedio_calificaciones = df['Calificación'].mean().round(2)\n",
        "\n",
        "        print(\"Calificación promedio:\")\n",
        "        print(promedio_calificaciones)\n",
        "\n",
        "        # Guardar en diccionario para graficar después\n",
        "        calificaciones[nombre] = promedio_calificaciones\n",
        "\n",
        "    except Exception as e:\n",
        "        print(f\"Error al procesar {nombre}: {e}\")"
      ],
      "metadata": {
        "id": "bh3jjjJwY5MU",
        "colab": {
          "base_uri": "https://localhost:8080/"
        },
        "outputId": "6de3d87d-6faa-4e23-cf73-ff99d646793e"
      },
      "execution_count": 34,
      "outputs": [
        {
          "output_type": "stream",
          "name": "stdout",
          "text": [
            "\n",
            "Calificación promedio de Tienda 1\n",
            "Calificación promedio:\n",
            "3.98\n",
            "\n",
            "Calificación promedio de Tienda 2\n",
            "Calificación promedio:\n",
            "4.04\n",
            "\n",
            "Calificación promedio de Tienda 3\n",
            "Calificación promedio:\n",
            "4.05\n",
            "\n",
            "Calificación promedio de Tienda 4\n",
            "Calificación promedio:\n",
            "4.0\n"
          ]
        }
      ]
    },
    {
      "cell_type": "code",
      "source": [
        "\n",
        "# Gráfico de barras\n",
        "plt.figure(figsize=(8, 5))\n",
        "plt.bar(calificaciones.keys(), calificaciones.values(), color='cornflowerblue')\n",
        "plt.title(\"Calificación promedio por tienda\")\n",
        "plt.ylabel(\"Calificación promedio\")\n",
        "plt.ylim(0, 5)\n",
        "\n",
        "# Agregar valores encima de las barras\n",
        "for i, (nombre, calificacion) in enumerate(calificaciones.items()):\n",
        "    plt.text(i, calificacion + 0.1, str(calificacion), ha='center')\n",
        "\n",
        "plt.xticks(rotation=45)\n",
        "plt.tight_layout()\n",
        "plt.show()"
      ],
      "metadata": {
        "colab": {
          "base_uri": "https://localhost:8080/",
          "height": 507
        },
        "id": "h5HXoP0ZHeC7",
        "outputId": "80c3b962-f3ad-453a-e85b-b218f199e988"
      },
      "execution_count": 35,
      "outputs": [
        {
          "output_type": "display_data",
          "data": {
            "text/plain": [
              "<Figure size 800x500 with 1 Axes>"
            ],
            "image/png": "[encoded data removed]"
          },
          "metadata": {}
        }
      ]
    },
    {
      "cell_type": "markdown",
      "source": [
        "# 4. Productos más y menos vendidos"
      ],
      "metadata": {
        "id": "DmNp1KPBZCm-"
      }
    },
    {
      "cell_type": "code",
      "source": [
        "for nombre, url in urls.items():\n",
        "    print(f\"\\nAnalisis {nombre}\")\n",
        "\n",
        "    try:\n",
        "        df = pd.read_csv(url)\n",
        "\n",
        "        # Verificamos el nombre de la columna si es necesario\n",
        "        # print(df.columns)\n",
        "\n",
        "        ventas_productos = df['Producto'].value_counts()\n",
        "        producto_mas_vendido = ventas_productos.idxmax()\n",
        "        producto_menos_vendido = ventas_productos.idxmin()\n",
        "        print(\"Producto mas vendido:\", producto_mas_vendido)\n",
        "        print(\"Producto menos vendido:\", producto_menos_vendido)\n",
        "\n",
        "\n",
        "    except Exception as e:\n",
        "        print(f\"Error al procesar {nombre}: {e}\")"
      ],
      "metadata": {
        "id": "qoyjqijQZHfF",
        "colab": {
          "base_uri": "https://localhost:8080/"
        },
        "outputId": "0202d44b-b3e7-4992-999b-c5035f94436a"
      },
      "execution_count": 26,
      "outputs": [
        {
          "output_type": "stream",
          "name": "stdout",
          "text": [
            "\n",
            "Analisis Tienda 1\n",
            "Producto mas vendido: Microondas\n",
            "Producto menos vendido: Auriculares con micrófono\n",
            "\n",
            "Analisis Tienda 2\n",
            "Producto mas vendido: Iniciando en programación\n",
            "Producto menos vendido: Juego de mesa\n",
            "\n",
            "Analisis Tienda 3\n",
            "Producto mas vendido: Kit de bancas\n",
            "Producto menos vendido: Bloques de construcción\n",
            "\n",
            "Analisis Tienda 4\n",
            "Producto mas vendido: Cama box\n",
            "Producto menos vendido: Guitarra eléctrica\n"
          ]
        }
      ]
    },
    {
      "cell_type": "code",
      "source": [
        "mas_vendidos = {}\n",
        "menos_vendidos = {}\n",
        "\n",
        "for nombre, url in urls.items():\n",
        "    print(f\"\\nAnálisis {nombre}\")\n",
        "\n",
        "    try:\n",
        "        df = pd.read_csv(url)\n",
        "\n",
        "        ventas_productos = df['Producto'].value_counts()\n",
        "        producto_mas_vendido = ventas_productos.idxmax()\n",
        "        producto_menos_vendido = ventas_productos.idxmin()\n",
        "\n",
        "        mas_vendidos[nombre] = (producto_mas_vendido, ventas_productos.max())\n",
        "        menos_vendidos[nombre] = (producto_menos_vendido, ventas_productos.min())\n",
        "\n",
        "        print(\"Producto más vendido:\", producto_mas_vendido)\n",
        "        print(\"Producto menos vendido:\", producto_menos_vendido)\n",
        "\n",
        "    except Exception as e:\n",
        "        print(f\"Error al procesar {nombre}: {e}\")\n",
        "\n",
        "# Crear gráfico de barras agrupadas\n",
        "tiendas = list(urls.keys())\n",
        "valores_mas = [mas_vendidos[t][1] for t in tiendas]\n",
        "valores_menos = [menos_vendidos[t][1] for t in tiendas]\n",
        "\n",
        "x = range(len(tiendas))\n",
        "ancho = 0.35\n",
        "\n",
        "plt.figure(figsize=(10, 6))\n",
        "plt.bar([i - ancho/2 for i in x], valores_mas, width=ancho, label='Más vendido', color='seagreen')\n",
        "plt.bar([i + ancho/2 for i in x], valores_menos, width=ancho, label='Menos vendido', color='salmon')\n",
        "\n",
        "plt.xticks(x, tiendas, rotation=45)\n",
        "plt.ylabel(\"Cantidad de ventas\")\n",
        "plt.title(\"Comparación de productos más y menos vendidos por tienda\")\n",
        "plt.legend()\n",
        "\n",
        "# Agregar etiquetas de los nombres de productos\n",
        "for i in x:\n",
        "    plt.text(i - ancho/2, valores_mas[i] + 0.3, mas_vendidos[tiendas[i]][0], ha='center', fontsize=8, rotation=0)\n",
        "    plt.text(i + ancho/2, valores_menos[i] + 0.3, menos_vendidos[tiendas[i]][0], ha='center', fontsize=8, rotation=0)\n",
        "\n",
        "plt.tight_layout()\n",
        "plt.show()"
      ],
      "metadata": {
        "colab": {
          "base_uri": "https://localhost:8080/",
          "height": 884
        },
        "id": "CzNCuNxFIcch",
        "outputId": "d43fc138-8b46-408b-e22d-4778a5292f2c"
      },
      "execution_count": 41,
      "outputs": [
        {
          "output_type": "stream",
          "name": "stdout",
          "text": [
            "\n",
            "Análisis Tienda 1\n",
            "Producto más vendido: Microondas\n",
            "Producto menos vendido: Auriculares con micrófono\n",
            "\n",
            "Análisis Tienda 2\n",
            "Producto más vendido: Iniciando en programación\n",
            "Producto menos vendido: Juego de mesa\n",
            "\n",
            "Análisis Tienda 3\n",
            "Producto más vendido: Kit de bancas\n",
            "Producto menos vendido: Bloques de construcción\n",
            "\n",
            "Análisis Tienda 4\n",
            "Producto más vendido: Cama box\n",
            "Producto menos vendido: Guitarra eléctrica\n"
          ]
        },
        {
          "output_type": "display_data",
          "data": {
            "text/plain": [
              "<Figure size 1000x600 with 1 Axes>"
            ],
            "image/png": "[encoded data removed]"
          },
          "metadata": {}
        }
      ]
    },
    {
      "cell_type": "markdown",
      "source": [
        "# 5. Envío promedio por tienda"
      ],
      "metadata": {
        "id": "Fl0cGi3bZKqU"
      }
    },
    {
      "cell_type": "code",
      "source": [
        "for nombre, url in urls.items():\n",
        "    print(f\"\\nValor envio promedio {nombre}\")\n",
        "\n",
        "    try:\n",
        "        df = pd.read_csv(url)\n",
        "\n",
        "        # Verificamos el nombre de la columna si es necesario\n",
        "        # print(df.columns)\n",
        "\n",
        "        promedio_envio = df['Costo de envío'].mean().round(2)\n",
        "\n",
        "        print(\"Costo de envío promedio:\")\n",
        "        print(promedio_envio)\n",
        "\n",
        "    except Exception as e:\n",
        "        print(f\"Error al procesar {nombre}: {e}\")"
      ],
      "metadata": {
        "id": "S2JeaCykZNy9",
        "colab": {
          "base_uri": "https://localhost:8080/"
        },
        "outputId": "b702f356-f7da-45a3-a870-97b5f89ce3cb"
      },
      "execution_count": 23,
      "outputs": [
        {
          "output_type": "stream",
          "name": "stdout",
          "text": [
            "\n",
            "Valor envio promedio Tienda 1\n",
            "Costo de envío promedio:\n",
            "26018.61\n",
            "\n",
            "Valor envio promedio Tienda 2\n",
            "Costo de envío promedio:\n",
            "25216.24\n",
            "\n",
            "Valor envio promedio Tienda 3\n",
            "Costo de envío promedio:\n",
            "24805.68\n",
            "\n",
            "Valor envio promedio Tienda 4\n",
            "Costo de envío promedio:\n",
            "23459.46\n"
          ]
        }
      ]
    },
    {
      "cell_type": "code",
      "source": [
        "\n",
        "costos_envio = {}\n",
        "\n",
        "for nombre, url in urls.items():\n",
        "    print(f\"\\nValor envío promedio {nombre}\")\n",
        "    try:\n",
        "        df = pd.read_csv(url)\n",
        "        promedio_envio = df['Costo de envío'].mean().round(2)\n",
        "        print(\"Costo de envío promedio:\")\n",
        "        print(promedio_envio)\n",
        "        costos_envio[nombre] = promedio_envio\n",
        "    except Exception as e:\n",
        "        print(f\"Error al procesar {nombre}: {e}\")\n",
        "\n",
        "plt.figure(figsize=(8,5))\n",
        "plt.scatter(costos_envio.keys(), costos_envio.values(), color='mediumslateblue', s=100)\n",
        "plt.title(\"Costo de envío promedio por tienda\")\n",
        "plt.ylabel(\"Costo de envío promedio\")\n",
        "plt.xticks(rotation=45)\n",
        "\n",
        "for i, (tienda, costo) in enumerate(costos_envio.items()):\n",
        "    plt.text(i, costo + 0.05, f\"${costo}\", ha='center')\n",
        "\n",
        "plt.tight_layout()\n",
        "plt.show()\n",
        "\n"
      ],
      "metadata": {
        "colab": {
          "base_uri": "https://localhost:8080/",
          "height": 785
        },
        "id": "tl-Kwa3RJI8o",
        "outputId": "d0c81d2e-e485-47ed-d577-f02e8180f6a5"
      },
      "execution_count": 44,
      "outputs": [
        {
          "output_type": "stream",
          "name": "stdout",
          "text": [
            "\n",
            "Valor envío promedio Tienda 1\n",
            "Costo de envío promedio:\n",
            "26018.61\n",
            "\n",
            "Valor envío promedio Tienda 2\n",
            "Costo de envío promedio:\n",
            "25216.24\n",
            "\n",
            "Valor envío promedio Tienda 3\n",
            "Costo de envío promedio:\n",
            "24805.68\n",
            "\n",
            "Valor envío promedio Tienda 4\n",
            "Costo de envío promedio:\n",
            "23459.46\n"
          ]
        },
        {
          "output_type": "display_data",
          "data": {
            "text/plain": [
              "<Figure size 800x500 with 1 Axes>"
            ],
            "image/png": "[encoded data removed]"
          },
          "metadata": {}
        }
      ]
    },
    {
      "cell_type": "markdown",
      "source": [
        "##Introducción\n",
        "\n",
        "El presente informe tiene como propósito analizar y comparar el desempeño de cuatro tiendas a partir de diversos factores clave: ingresos totales, ventas por categorías y productos, calificaciones promedio de clientes y costos de envío. El objetivo es determinar cuál de estas tiendas es la más adecuada para que el Sr. Juan realice sus ventas, considerando tanto la rentabilidad como la satisfacción del cliente y los costos logísticos.\n",
        "\n",
        "##Desarrollo\n",
        "###Ingresos Totales\n",
        "Los ingresos son un indicador fundamental de la capacidad de generación de valor de cada tienda. En este análisis:\n",
        "\n",
        "La Tienda 1 lidera con $1,150,880,400.00\n",
        "\n",
        "Le siguen la Tienda 2 con $1,116,343,500.00,\n",
        "\n",
        "La Tienda 3 con $1,098,019,600.00,\n",
        "\n",
        "Y la Tienda 4 con $1,038,375,700.00.\n",
        "\n",
        "Aunque la Tienda 1 es la que más ingresos genera, la diferencia con las demás no es abismal, lo que indica una competencia bastante pareja.\n",
        "\n",
        "###Ventas por Categoría\n",
        "En cuanto a las categorías más vendidas, se observa un patrón similar en las cuatro tiendas:\n",
        "\n",
        "Muebles y Electrónicos son las categorías más populares y generan la mayor cantidad de ventas.\n",
        "\n",
        "Las categorías con menos ventas incluyen Instrumentos musicales, Libros y Artículos para el hogar.\n",
        "\n",
        "Este comportamiento uniforme sugiere que el mercado y preferencias de los clientes son bastante consistentes entre las tiendas.\n",
        "\n",
        "###Calificaciones Promedio de Clientes\n",
        "La satisfacción del cliente es otro factor esencial. Las calificaciones promedio por tienda fueron:\n",
        "\n",
        "Tienda 3: 4.05 (la más alta)\n",
        "\n",
        "Tienda 2: 4.04\n",
        "\n",
        "Tienda 4: 4.00\n",
        "\n",
        "Tienda 1: 3.98 (la más baja)\n",
        "\n",
        "Aunque las diferencias son pequeñas, la Tienda 3 muestra una ligera ventaja en la satisfacción del cliente, lo que puede reflejar mejor calidad o servicio.\n",
        "\n",
        "######Productos Más y Menos Vendidos\n",
        "La variedad de productos también puede influir en la decisión:\n",
        "\n",
        "Tienda 1:\n",
        "\n",
        "Más vendido: Microondas\n",
        "\n",
        "Menos vendido: Auriculares con micrófono\n",
        "\n",
        "Tienda 2:\n",
        "\n",
        "Más vendido: Iniciando en programación (posiblemente un libro o curso)\n",
        "\n",
        "Menos vendido: Juego de mesa\n",
        "\n",
        "Tienda 3:\n",
        "\n",
        "Más vendido: Kit de bancas\n",
        "\n",
        "Menos vendido: Bloques de construcción\n",
        "\n",
        "Tienda 4:\n",
        "\n",
        "Más vendido: Cama box\n",
        "\n",
        "Menos vendido: Guitarra eléctrica\n",
        "\n",
        "Estos datos reflejan la diversidad del catálogo y las preferencias específicas en cada tienda. La Tienda 3 y 4 parecen especializarse en muebles y artículos para el hogar, mientras que la Tienda 2 tiene un producto educativo destacado.\n",
        "\n",
        "###Costo de Envío Promedio\n",
        "Los costos logísticos impactan directamente en la rentabilidad:\n",
        "\n",
        "Tienda 4 tiene el costo de envío promedio más bajo: $23,459.46\n",
        "\n",
        "Tienda 3: $24,805.68\n",
        "\n",
        "Tienda 2: $25,216.24\n",
        "\n",
        "Tienda 1 el costo más alto: $26,018.61\n",
        "\n",
        "Un menor costo de envío puede traducirse en mayor competitividad en precio y mejor experiencia para el cliente.\n",
        "\n",
        "##Conclusión y Recomendación\n",
        "Considerando todos los factores analizados:\n",
        "\n",
        "La Tienda 1 tiene el mayor ingreso total, pero también el costo de envío más alto y la calificación promedio más baja, lo que podría afectar la satisfacción y rentabilidad neta.\n",
        "\n",
        "La Tienda 3 presenta la calificación promedio más alta y un costo de envío moderado, además de ingresos competitivos, lo que indica un buen equilibrio entre ventas, satisfacción y costos.\n",
        "\n",
        "La Tienda 4 destaca por su menor costo de envío, pero tiene el ingreso más bajo entre las cuatro tiendas.\n",
        "\n",
        "La Tienda 2 se mantiene bien en satisfacción y ventas, con un costo de envío intermedio.\n",
        "\n",
        "Por lo tanto, se recomienda que el Sr. Juan realice sus ventas a través de la Tienda 3, ya que combina:\n",
        "\n",
        "Altos ingresos,\n",
        "\n",
        "Mejor satisfacción de los clientes,\n",
        "\n",
        "Un costo de envío competitivo,\n",
        "\n",
        "Y un catálogo diversificado con productos exitosos.\n",
        "\n",
        "Esta elección maximiza el balance entre rentabilidad, satisfacción y costos logísticos, factores clave para el éxito comercial sostenible."
      ],
      "metadata": {
        "id": "P63GBo64KabO"
      }
    },
    {
      "cell_type": "code",
      "source": [],
      "metadata": {
        "id": "qI6JSMM0K04U"
      },
      "execution_count": null,
      "outputs": []
    }
  ]
}